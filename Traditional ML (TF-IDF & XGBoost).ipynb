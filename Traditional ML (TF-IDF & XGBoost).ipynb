{
 "cells": [
  {
   "cell_type": "markdown",
   "metadata": {
    "id": "hCTIHRFRyTEt"
   },
   "source": [
    "<br>\n",
    "\n",
    "## ❗️ 전체 실습에서 GoogleDrive & Colab을 활용합니다.\n",
    "\n",
    "- **colab_data** 폴더를 통째로 Google Drive에 업로드해주세요. (Colab Notebooks 폴더 옆)\n",
    "- Colab 에서 실습 파일들을 실행해주세요."
   ]
  },
  {
   "cell_type": "markdown",
   "metadata": {
    "id": "BdBKTJUsNj-y"
   },
   "source": [
    "<br>\n",
    "<br>\n",
    "\n",
    "# 0. Install & import libraries "
   ]
  },
  {
   "cell_type": "code",
   "execution_count": null,
   "metadata": {
    "id": "_Irfc-UZnFBg"
   },
   "outputs": [],
   "source": [
    "!pip install konlpy==0.5.2"
   ]
  },
  {
   "cell_type": "code",
   "execution_count": null,
   "metadata": {
    "colab": {
     "base_uri": "https://localhost:8080/"
    },
    "id": "Bs4WOcoS9fx3",
    "outputId": "a27c4bb3-87d0-47a7-e2a5-0eeaea2d26e4"
   },
   "outputs": [
    {
     "name": "stdout",
     "output_type": "stream",
     "text": [
      "0.5.2\n",
      "0.22.2.post1\n"
     ]
    }
   ],
   "source": [
    "import konlpy\n",
    "import sklearn\n",
    "print(konlpy.__version__) # 0.5.2\n",
    "print(sklearn.__version__) # 0.22.2"
   ]
  },
  {
   "cell_type": "code",
   "execution_count": null,
   "metadata": {
    "id": "5474cqArNVQ1"
   },
   "outputs": [],
   "source": [
    "import pandas as pd\n",
    "import numpy as np\n",
    "import matplotlib.pyplot as plt\n",
    "\n",
    "import os\n",
    "import re\n",
    "import tqdm\n",
    "import urllib.request\n",
    "from collections import Counter\n",
    "\n",
    "from konlpy.tag import Okt \n",
    "\n",
    "# [ konlpy.tag.Mecab ] 사용 희망 시, 아래의 코드를 통해 먼저 설치 진행 후 import를 진행해주셔야 합니다 (리눅스 & Colab만 가능)\n",
    "# (한국어 형태소 분석기 성능 비교 @ https://j.mp/3wTHrkw & https://j.mp/3rrSgJm)\n",
    "\n",
    "# !git clone https://github.com/SOMJANG/Mecab-ko-for-Google-Colab.git\n",
    "# %cd Mecab-ko-for-Google-Colab\n",
    "# !bash install_mecab-ko_on_colab190912.sh\n",
    "# from konlpy.tag import Mecab "
   ]
  },
  {
   "cell_type": "markdown",
   "metadata": {
    "id": "PphfhKKLQL0u"
   },
   "source": [
    "<br>\n",
    "<br>\n",
    "\n",
    "# 1. Load the data"
   ]
  },
  {
   "cell_type": "code",
   "execution_count": null,
   "metadata": {
    "colab": {
     "base_uri": "https://localhost:8080/"
    },
    "id": "VR7dmRhQOaIy",
    "outputId": "064468d4-8944-409f-afff-fccbde9b41f3"
   },
   "outputs": [
    {
     "data": {
      "text/plain": [
       "('ratings_total.txt', <http.client.HTTPMessage at 0x7fefd1d2bb10>)"
      ]
     },
     "execution_count": 4,
     "metadata": {
      "tags": []
     },
     "output_type": "execute_result"
    }
   ],
   "source": [
    "# Download the original data directly from github by using [ urlretrieve() ]\n",
    "urllib.request.urlretrieve(\"https://raw.githubusercontent.com/bab2min/corpus/master/sentiment/naver_shopping.txt\", filename=\"ratings_total.txt\")\n",
    "\n",
    "# - Original source @ https://github.com/bab2min/corpus\n",
    "# - 네이버 쇼핑(https://shopping.naver.com/)에서 2020.06~2020.07 기간에 걸쳐 20만 건의 리뷰 텍스트를 별점(1~5점)과 함께 수집 \n",
    "# - 3점에 해당하는 데이터를 삭제한 후, 1~2점(부정) & 4~5점(긍정) 데이터의 비율이 1:1에 가깝게 맞춰지도록 샘플링 진행"
   ]
  },
  {
   "cell_type": "code",
   "execution_count": null,
   "metadata": {
    "id": "k9qAlJmbNXMy"
   },
   "outputs": [],
   "source": [
    "# or you can upload the file to Colab with the following codes.\n",
    "\n",
    "# from google.colab import files\n",
    "# uploaded = files.upload() # Please upload the file named \"naver_shopping.txt\""
   ]
  },
  {
   "cell_type": "code",
   "execution_count": null,
   "metadata": {
    "colab": {
     "base_uri": "https://localhost:8080/",
     "height": 158
    },
    "id": "nTItgjsbPqdS",
    "outputId": "a688a9ab-a81e-49ab-e39f-727a5f1f1c10"
   },
   "outputs": [
    {
     "name": "stdout",
     "output_type": "stream",
     "text": [
      "전체 리뷰 수 : 200000\n"
     ]
    },
    {
     "data": {
      "text/html": [
       "<div>\n",
       "<style scoped>\n",
       "    .dataframe tbody tr th:only-of-type {\n",
       "        vertical-align: middle;\n",
       "    }\n",
       "\n",
       "    .dataframe tbody tr th {\n",
       "        vertical-align: top;\n",
       "    }\n",
       "\n",
       "    .dataframe thead th {\n",
       "        text-align: right;\n",
       "    }\n",
       "</style>\n",
       "<table border=\"1\" class=\"dataframe\">\n",
       "  <thead>\n",
       "    <tr style=\"text-align: right;\">\n",
       "      <th></th>\n",
       "      <th>ratings</th>\n",
       "      <th>reviews</th>\n",
       "    </tr>\n",
       "  </thead>\n",
       "  <tbody>\n",
       "    <tr>\n",
       "      <th>0</th>\n",
       "      <td>5</td>\n",
       "      <td>배공빠르고 굿</td>\n",
       "    </tr>\n",
       "    <tr>\n",
       "      <th>1</th>\n",
       "      <td>2</td>\n",
       "      <td>택배가 엉망이네용 저희집 밑에층에 말도없이 놔두고가고</td>\n",
       "    </tr>\n",
       "    <tr>\n",
       "      <th>2</th>\n",
       "      <td>5</td>\n",
       "      <td>아주좋아요 바지 정말 좋아서2개 더 구매했어요 이가격에 대박입니다. 바느질이 조금 ...</td>\n",
       "    </tr>\n",
       "  </tbody>\n",
       "</table>\n",
       "</div>"
      ],
      "text/plain": [
       "   ratings                                            reviews\n",
       "0        5                                            배공빠르고 굿\n",
       "1        2                      택배가 엉망이네용 저희집 밑에층에 말도없이 놔두고가고\n",
       "2        5  아주좋아요 바지 정말 좋아서2개 더 구매했어요 이가격에 대박입니다. 바느질이 조금 ..."
      ]
     },
     "execution_count": 5,
     "metadata": {
      "tags": []
     },
     "output_type": "execute_result"
    }
   ],
   "source": [
    "reviews_df = pd.read_table('ratings_total.txt', names=['ratings', 'reviews'])\n",
    "\n",
    "print('전체 리뷰 수 :',len(reviews_df)) # 전체 리뷰 수 (중복 리뷰가 존재할 수 있음)\n",
    "\n",
    "reviews_df.head(3)"
   ]
  },
  {
   "cell_type": "markdown",
   "metadata": {
    "id": "K_ZQn46rRMWU"
   },
   "source": [
    "<br>\n",
    "<br>\n",
    "\n",
    "# 2. Preprocess the data"
   ]
  },
  {
   "cell_type": "markdown",
   "metadata": {
    "id": "DZPmkyqyH4iH"
   },
   "source": [
    "### 1) 중복 체크 & 중복 제거"
   ]
  },
  {
   "cell_type": "code",
   "execution_count": null,
   "metadata": {
    "colab": {
     "base_uri": "https://localhost:8080/",
     "height": 417
    },
    "id": "9rodSpnJRKIP",
    "outputId": "34d7651d-d147-4a8d-ab29-8459946cc4d1"
   },
   "outputs": [
    {
     "data": {
      "text/html": [
       "<div>\n",
       "<style scoped>\n",
       "    .dataframe tbody tr th:only-of-type {\n",
       "        vertical-align: middle;\n",
       "    }\n",
       "\n",
       "    .dataframe tbody tr th {\n",
       "        vertical-align: top;\n",
       "    }\n",
       "\n",
       "    .dataframe thead th {\n",
       "        text-align: right;\n",
       "    }\n",
       "</style>\n",
       "<table border=\"1\" class=\"dataframe\">\n",
       "  <thead>\n",
       "    <tr style=\"text-align: right;\">\n",
       "      <th></th>\n",
       "      <th>ratings</th>\n",
       "      <th>reviews</th>\n",
       "    </tr>\n",
       "  </thead>\n",
       "  <tbody>\n",
       "    <tr>\n",
       "      <th>8731</th>\n",
       "      <td>4</td>\n",
       "      <td>2022년까지 넉넉함</td>\n",
       "    </tr>\n",
       "    <tr>\n",
       "      <th>10958</th>\n",
       "      <td>5</td>\n",
       "      <td>2022년까지 넉넉함</td>\n",
       "    </tr>\n",
       "    <tr>\n",
       "      <th>95928</th>\n",
       "      <td>2</td>\n",
       "      <td>3년 동안 꾸준히 쓰는데 좋아요</td>\n",
       "    </tr>\n",
       "    <tr>\n",
       "      <th>137154</th>\n",
       "      <td>1</td>\n",
       "      <td>3년 동안 꾸준히 쓰는데 좋아요</td>\n",
       "    </tr>\n",
       "    <tr>\n",
       "      <th>89900</th>\n",
       "      <td>4</td>\n",
       "      <td>가격에 비해 가성비 좋습니다</td>\n",
       "    </tr>\n",
       "    <tr>\n",
       "      <th>...</th>\n",
       "      <td>...</td>\n",
       "      <td>...</td>\n",
       "    </tr>\n",
       "    <tr>\n",
       "      <th>18075</th>\n",
       "      <td>1</td>\n",
       "      <td>크기가 너무 작아요</td>\n",
       "    </tr>\n",
       "    <tr>\n",
       "      <th>56290</th>\n",
       "      <td>2</td>\n",
       "      <td>한사이즈 크게 주문하세요 스판기 없고 통풍 안됨</td>\n",
       "    </tr>\n",
       "    <tr>\n",
       "      <th>184478</th>\n",
       "      <td>1</td>\n",
       "      <td>한사이즈 크게 주문하세요 스판기 없고 통풍 안됨</td>\n",
       "    </tr>\n",
       "    <tr>\n",
       "      <th>195539</th>\n",
       "      <td>4</td>\n",
       "      <td>효과가 있는지 모르겠어요</td>\n",
       "    </tr>\n",
       "    <tr>\n",
       "      <th>31088</th>\n",
       "      <td>1</td>\n",
       "      <td>효과가 있는지 모르겠어요</td>\n",
       "    </tr>\n",
       "  </tbody>\n",
       "</table>\n",
       "<p>184 rows × 2 columns</p>\n",
       "</div>"
      ],
      "text/plain": [
       "        ratings                     reviews\n",
       "8731          4                 2022년까지 넉넉함\n",
       "10958         5                 2022년까지 넉넉함\n",
       "95928         2           3년 동안 꾸준히 쓰는데 좋아요\n",
       "137154        1           3년 동안 꾸준히 쓰는데 좋아요\n",
       "89900         4             가격에 비해 가성비 좋습니다\n",
       "...         ...                         ...\n",
       "18075         1                  크기가 너무 작아요\n",
       "56290         2  한사이즈 크게 주문하세요 스판기 없고 통풍 안됨\n",
       "184478        1  한사이즈 크게 주문하세요 스판기 없고 통풍 안됨\n",
       "195539        4               효과가 있는지 모르겠어요\n",
       "31088         1               효과가 있는지 모르겠어요\n",
       "\n",
       "[184 rows x 2 columns]"
      ]
     },
     "execution_count": 6,
     "metadata": {
      "tags": []
     },
     "output_type": "execute_result"
    }
   ],
   "source": [
    "reviews_df[ reviews_df['reviews'].duplicated(keep=False) == True ].sort_values('reviews') # keep=False : Mark all duplicates as `True`. (생략 시 중복된 항목 중 하나만 꺼내줍니다.)"
   ]
  },
  {
   "cell_type": "code",
   "execution_count": null,
   "metadata": {
    "colab": {
     "base_uri": "https://localhost:8080/"
    },
    "id": "COL4oX4kSYuf",
    "outputId": "08c56484-cacd-44be-8d06-f63afe11b8d8"
   },
   "outputs": [
    {
     "name": "stdout",
     "output_type": "stream",
     "text": [
      "중복 제거 후 전체 리뷰 수 : 199908\n"
     ]
    }
   ],
   "source": [
    "reviews_df = reviews_df.drop_duplicates('reviews') \n",
    "reviews_df = reviews_df.reset_index(drop=True)\n",
    "\n",
    "print('중복 제거 후 전체 리뷰 수 :', len(reviews_df))"
   ]
  },
  {
   "cell_type": "markdown",
   "metadata": {
    "id": "0AXpl_JSISFE"
   },
   "source": [
    "<br> \n",
    "\n",
    "### 2) 리뷰 별점을 기준으로 하여 Label 열 생성 (긍정 == 1, 부정 == 0)"
   ]
  },
  {
   "cell_type": "code",
   "execution_count": null,
   "metadata": {
    "colab": {
     "base_uri": "https://localhost:8080/",
     "height": 142
    },
    "id": "LR4bAtUcTL0N",
    "outputId": "fc08fed4-3ade-4a81-aaff-ac212c36ac98"
   },
   "outputs": [
    {
     "data": {
      "text/html": [
       "<div>\n",
       "<style scoped>\n",
       "    .dataframe tbody tr th:only-of-type {\n",
       "        vertical-align: middle;\n",
       "    }\n",
       "\n",
       "    .dataframe tbody tr th {\n",
       "        vertical-align: top;\n",
       "    }\n",
       "\n",
       "    .dataframe thead th {\n",
       "        text-align: right;\n",
       "    }\n",
       "</style>\n",
       "<table border=\"1\" class=\"dataframe\">\n",
       "  <thead>\n",
       "    <tr style=\"text-align: right;\">\n",
       "      <th></th>\n",
       "      <th>ratings</th>\n",
       "      <th>reviews</th>\n",
       "      <th>label</th>\n",
       "    </tr>\n",
       "  </thead>\n",
       "  <tbody>\n",
       "    <tr>\n",
       "      <th>0</th>\n",
       "      <td>5</td>\n",
       "      <td>배공빠르고 굿</td>\n",
       "      <td>1</td>\n",
       "    </tr>\n",
       "    <tr>\n",
       "      <th>1</th>\n",
       "      <td>2</td>\n",
       "      <td>택배가 엉망이네용 저희집 밑에층에 말도없이 놔두고가고</td>\n",
       "      <td>0</td>\n",
       "    </tr>\n",
       "    <tr>\n",
       "      <th>2</th>\n",
       "      <td>5</td>\n",
       "      <td>아주좋아요 바지 정말 좋아서2개 더 구매했어요 이가격에 대박입니다. 바느질이 조금 ...</td>\n",
       "      <td>1</td>\n",
       "    </tr>\n",
       "  </tbody>\n",
       "</table>\n",
       "</div>"
      ],
      "text/plain": [
       "   ratings                                            reviews  label\n",
       "0        5                                            배공빠르고 굿      1\n",
       "1        2                      택배가 엉망이네용 저희집 밑에층에 말도없이 놔두고가고      0\n",
       "2        5  아주좋아요 바지 정말 좋아서2개 더 구매했어요 이가격에 대박입니다. 바느질이 조금 ...      1"
      ]
     },
     "execution_count": 8,
     "metadata": {
      "tags": []
     },
     "output_type": "execute_result"
    }
   ],
   "source": [
    "reviews_df['label'] = reviews_df['ratings'].apply(lambda x : 1 if x > 3 else 0)\n",
    "\n",
    "reviews_df.head(3)"
   ]
  },
  {
   "cell_type": "code",
   "execution_count": null,
   "metadata": {
    "colab": {
     "base_uri": "https://localhost:8080/"
    },
    "id": "C-wVvgyYU9do",
    "outputId": "89c39a17-8880-43ae-d932-fcc104fb2ef3"
   },
   "outputs": [
    {
     "name": "stdout",
     "output_type": "stream",
     "text": [
      "0    0.500005\n",
      "1    0.499995\n",
      "Name: label, dtype: float64\n"
     ]
    }
   ],
   "source": [
    "print(reviews_df['label'].value_counts() / len(reviews_df))\n",
    "\n",
    "# 클래스 불균형 X"
   ]
  },
  {
   "cell_type": "markdown",
   "metadata": {
    "id": "BLbyYgloIZ3w"
   },
   "source": [
    "<br> \n",
    "\n",
    "### 3) 형태소 분석 (+ 불용어 제거)"
   ]
  },
  {
   "cell_type": "code",
   "execution_count": null,
   "metadata": {
    "colab": {
     "base_uri": "https://localhost:8080/",
     "height": 35
    },
    "id": "PDEjhXiLVqMq",
    "outputId": "7925a30a-32cb-46f2-c0a7-b7ff6dc7bc28"
   },
   "outputs": [
    {
     "data": {
      "application/vnd.google.colaboratory.intrinsic+json": {
       "type": "string"
      },
      "text/plain": [
       "'장마라 그런가 달지않아요 '"
      ]
     },
     "execution_count": 9,
     "metadata": {
      "tags": []
     },
     "output_type": "execute_result"
    }
   ],
   "source": [
    "# [ whitespaces, 숫자, 영문 알파벳, 한글(+자모음) ]이 아닌 것을 공백으로 치환 (특수문자 제거)\n",
    "\n",
    "text_test = re.sub(\"[^\\s0-9a-zA-Zㄱ-ㅎㅏ-ㅣ가-힣]\", \"\", '장마라 그런가!!! 달지않아요 ^^') # sub(pattern, repl, string, ...)\n",
    "text_test"
   ]
  },
  {
   "cell_type": "code",
   "execution_count": null,
   "metadata": {
    "id": "kNbLD69ZxjOR"
   },
   "outputs": [],
   "source": [
    "def tokenize_and_stemming(sentence, tokenizer):\n",
    "\n",
    "    sentence = re.sub(\"[^\\s0-9a-zA-Zㄱ-ㅎㅏ-ㅣ가-힣]\", \"\", sentence) \n",
    "    \n",
    "    raw_pos_tagged = tokenizer.pos(sentence, stem=True) # POS Tagging with stemming\n",
    "\n",
    "    sentence_tokenized = []\n",
    "    for token, pos in raw_pos_tagged: # ex) word <- ('서울', 'Noun')\n",
    "        # pos 기준 제거 대상 : [\"Josa\", \"Eomi\", \"Punctuation\", \"Foreign\", \"Number\", \"Suffix\", \"Determiner\"]\n",
    "        # 리뷰 텍스트 상 형태소의 순서를 고려하는 경우 의미를 갖게 됨 : \"VerbPrefix\" (잘/안/못), \"Conjunction\"(하지만/그러나/그리고), \"KoreanParticle\"(ㅋㅋㅋ/ㅎㅎㅎ/ㅠㅠ)\n",
    "        if (len(token) != 1) & (pos in [\"Noun\", \"VerbPrefix\", \"Verb\", \"Adverb\", \"Adjective\", \"Conjunction\", \"KoreanParticle\"]):\n",
    "            sentence_tokenized.append(token)  \n",
    "\n",
    "    return sentence_tokenized"
   ]
  },
  {
   "cell_type": "code",
   "execution_count": null,
   "metadata": {
    "id": "KoUmf8Kw6rJz"
   },
   "outputs": [],
   "source": [
    "# Colab 기준 10분 가량 소요됩니다.\n",
    "\n",
    "okt = Okt()\n",
    "tokenized_sentences = []\n",
    "\n",
    "for sentence in tqdm.tqdm(reviews_df['reviews']):\n",
    "    try:\n",
    "        tokenized_sentences.append(tokenize_and_stemming(sentence, okt))\n",
    "    except:\n",
    "        print(\"Error occured at :\", sentence)\n",
    "        tokenized_sentences.append([])\n",
    "\n",
    "reviews_df['reviews'] = tokenized_sentences\n",
    "\n",
    "# reviews_df['reviews'] = reviews_df['reviews'].apply(tokenize_and_stemming, tokenizer=okt) # tqdm 미사용 시 1줄로도 적용 가능"
   ]
  },
  {
   "cell_type": "code",
   "execution_count": null,
   "metadata": {
    "colab": {
     "base_uri": "https://localhost:8080/"
    },
    "id": "nF10KEdiLNF2",
    "outputId": "6ef6f20e-996e-4c58-a072-d194b8ac9bee"
   },
   "outputs": [
    {
     "data": {
      "text/plain": [
       "[('좋다', 49791),\n",
       " ('하다', 44499),\n",
       " ('배송', 16281),\n",
       " ('자다', 13484),\n",
       " ('너무', 12169),\n",
       " ('재다', 11753),\n",
       " ('있다', 11610),\n",
       " ('먹다', 11404),\n",
       " ('같다', 10511),\n",
       " ('빠르다', 10254),\n",
       " ('구매', 9529),\n",
       " ('사용', 7208),\n",
       " ('가격', 6687),\n",
       " ('이다', 6677),\n",
       " ('만족하다', 6515),\n",
       " ('맛있다', 6342),\n",
       " ('쓰다', 6147),\n",
       " ('사다', 6107),\n",
       " ('되다', 5849),\n",
       " ('보다', 5655)]"
      ]
     },
     "execution_count": 15,
     "metadata": {
      "tags": []
     },
     "output_type": "execute_result"
    }
   ],
   "source": [
    "# 긍정 리뷰에 많이 포함되었던 형태소 체크\n",
    "\n",
    "tokens_positive = []\n",
    "\n",
    "for tokens_list in reviews_df[reviews_df['label'] == 1]['reviews']:\n",
    "    tokens_positive.extend(eval(tokens_list)) \n",
    "    # eval()의 역할 : \"['편하다', '가성', '최고']\" (str) -> ['편하다', '가성', '최고'] (list)\n",
    "\n",
    "tokens_positive_counted = Counter(tokens_positive)\n",
    "tokens_positive_counted.most_common(20)"
   ]
  },
  {
   "cell_type": "code",
   "execution_count": null,
   "metadata": {
    "colab": {
     "base_uri": "https://localhost:8080/"
    },
    "id": "CpvCOLY8AzXX",
    "outputId": "6c37a4d5-4b93-4f41-d6dc-d8d20afe7c9a"
   },
   "outputs": [
    {
     "data": {
      "text/plain": [
       "[('하다', 52669),\n",
       " ('너무', 17582),\n",
       " ('배송', 12194),\n",
       " ('같다', 11903),\n",
       " ('없다', 11414),\n",
       " ('좋다', 11195),\n",
       " ('있다', 10712),\n",
       " ('않다', 10640),\n",
       " ('그냥', 10507),\n",
       " ('오다', 9377),\n",
       " ('이다', 8168),\n",
       " ('쓰다', 7904),\n",
       " ('되다', 7722),\n",
       " ('별로', 7436),\n",
       " ('사다', 7332),\n",
       " ('아니다', 7160),\n",
       " ('보다', 6809),\n",
       " ('자다', 6746),\n",
       " ('제품', 6733),\n",
       " ('생각', 6588)]"
      ]
     },
     "execution_count": 16,
     "metadata": {
      "tags": []
     },
     "output_type": "execute_result"
    }
   ],
   "source": [
    "# 부정 리뷰에 많이 포함되었던 형태소 체크\n",
    "\n",
    "tokens_negative = []\n",
    "\n",
    "for tokens_list in reviews_df[reviews_df['label'] == 0]['reviews']:\n",
    "    tokens_negative.extend(eval(tokens_list)) \n",
    "    # eval()의 역할 : \"['편하다', '가성', '최고']\" (str) -> ['편하다', '가성', '최고'] (list)\n",
    "\n",
    "tokens_negative_counted = Counter(tokens_negative)\n",
    "tokens_negative_counted.most_common(20)"
   ]
  },
  {
   "cell_type": "markdown",
   "metadata": {
    "id": "-pl9kMkWT4AQ"
   },
   "source": [
    "<br> \n",
    "\n",
    "### 4) 전처리 적용 후 데이터 중간 저장 @ Google Drive "
   ]
  },
  {
   "cell_type": "code",
   "execution_count": null,
   "metadata": {
    "colab": {
     "base_uri": "https://localhost:8080/"
    },
    "id": "UDaGxgf_Du7q",
    "outputId": "2c8aa4d4-c04e-40fb-e48f-2f02ad4c03b0"
   },
   "outputs": [
    {
     "name": "stdout",
     "output_type": "stream",
     "text": [
      "Mounted at /gdrive\n"
     ]
    }
   ],
   "source": [
    "# Colab 런타임 초기화를 대비해 구글드라이브에 현재까지 처리를 마친 데이터를 저장\n",
    "\n",
    "from google.colab import drive\n",
    "drive.mount('/gdrive')"
   ]
  },
  {
   "cell_type": "code",
   "execution_count": null,
   "metadata": {
    "id": "D6OWqtHxEN_K"
   },
   "outputs": [],
   "source": [
    "# 1) Save\n",
    "data_path = '/gdrive/MyDrive/colab_data/temp_data/' \n",
    "\n",
    "# 구글 드라이브 내 \"data_path\" 경로의 폴더가 존재하지 않을 시 새로이 생성\n",
    "if not os.path.exists(data_path): \n",
    "    os.makedirs(data_path)\n",
    "\n",
    "reviews_df.to_csv(data_path + 'data_reviews_tokenized.csv', encoding='utf-8', index=False)\n",
    "\n",
    "\n",
    "# 2) Load\n",
    "# data_path = '/gdrive/MyDrive/colab_data/temp_data/' \n",
    "# reviews_df = pd.read_csv(data_path + 'data_reviews_tokenized.csv', encoding='utf-8')\n",
    "# reviews_df['reviews'] = reviews_df['reviews'].apply(eval)\n",
    "# reviews_df"
   ]
  },
  {
   "cell_type": "markdown",
   "metadata": {
    "id": "lWDCKItkQX18"
   },
   "source": [
    "<br>\n",
    "<br>\n",
    "\n",
    "# 3. Modeling - Traditional ML (XGBoost)"
   ]
  },
  {
   "cell_type": "code",
   "execution_count": null,
   "metadata": {
    "id": "JYkS6iUXWn04"
   },
   "outputs": [],
   "source": [
    "from sklearn import model_selection\n",
    "from sklearn.feature_extraction.text import TfidfVectorizer # CountVectorizer\n",
    "from sklearn.metrics import accuracy_score\n",
    "\n",
    "from xgboost import XGBClassifier # version : 0.90"
   ]
  },
  {
   "cell_type": "code",
   "execution_count": null,
   "metadata": {
    "id": "5XKkOnV_XaCI"
   },
   "outputs": [],
   "source": [
    "train_x, test_x, train_y, test_y = model_selection.train_test_split(reviews_df['reviews'], reviews_df['label'], \n",
    "                                                                    test_size=0.3, \n",
    "                                                                    random_state=42) \n",
    "\n",
    "# 별도로 stratify 파라미터 값을 지정하지 않아도 자동으로 클래스 비율이 유지됨\n",
    "# print(train_y.value_counts() / len(train_y))"
   ]
  },
  {
   "cell_type": "code",
   "execution_count": null,
   "metadata": {
    "id": "d559VdCgyKNJ"
   },
   "outputs": [],
   "source": [
    "# 각각의 문서에 해당하는 데이터가 단순 문자열(ex. '물건이 정말 좋습니다')이 아니라, \n",
    "# 각 단어들에 대한 문자열을 모은 하나의 리스트(ex. ['물건이', '정말', '좋습니다'])로 주어질 경우,\n",
    "# 아래와 같이 Vectorizer를 설정하여 들어온 리스트를 그대로 받아들이도록 해주고 (tokenizer & token_pattern) \n",
    "# 단순 문자열이 아니기에 발생하는 .lower() 함수(Vectorizer 내부에서 작동됨)의 에러를 막아줍니다.\n",
    "\n",
    "# 아래 TfidfVectorizer() 에서 tokenizer 파라미터에게 lambda 함수를 넣어줄 수도 있으나, 이 경우 추후 vectorizer의 저장이 불가합니다. (https://j.mp/3y6cjjg)\n",
    "def list_to_list(doc):\n",
    "    return doc\n",
    "\n",
    "vectorizer = TfidfVectorizer(tokenizer=list_to_list, token_pattern=None, lowercase=False) # CountVectorizer 적용 시 아주 약간 성능 저하 (88.15% -> 88.02%)\n",
    "vectorizer.fit(train_x)\n",
    "\n",
    "train_x_vector = vectorizer.transform(train_x) # .toarray() 함수를 연달아 적용하면 np.array 형태로 만들어진 행렬을 확인할 수 있으나, RAM이 초과되어 Colab이 초기화됩니다. \n",
    "test_x_vector = vectorizer.transform(test_x) "
   ]
  },
  {
   "cell_type": "code",
   "execution_count": null,
   "metadata": {
    "id": "IQN9OIhLrvd8"
   },
   "outputs": [],
   "source": [
    "model_xgb = XGBClassifier(max_depth=4, \n",
    "                          n_estimators=1500, # 500 -> 86 / 1000 -> 87 / 1500 -> 88\n",
    "                          random_state=42) \n",
    "\n",
    "model_xgb.fit(train_x_vector, train_y, \n",
    "              early_stopping_rounds=10, # check for no improvement in log-loss(evaluation metric이 여러가지인 경우 마지막 metric이 기준) over the 10 epochs\n",
    "              eval_metric=[\"error\", \"logloss\"], # error == binary classification error, logloss == cross-entropy <- + merror, auc, rmse, mae, etc @ https://j.mp/3eTsUiF\n",
    "              eval_set=[(train_x_vector, train_y), (test_x_vector, test_y)])"
   ]
  },
  {
   "cell_type": "code",
   "execution_count": null,
   "metadata": {
    "colab": {
     "base_uri": "https://localhost:8080/"
    },
    "id": "tmE8Mo371VdQ",
    "outputId": "f434f632-95e5-4cfe-d8f6-4b3a769d33ec"
   },
   "outputs": [
    {
     "name": "stdout",
     "output_type": "stream",
     "text": [
      "Training accuracy : 0.8986\n",
      "Test accuracy : 0.8815\n"
     ]
    }
   ],
   "source": [
    "print('Training accuracy :', round(accuracy_score(model_xgb.predict(train_x_vector), train_y), 4))\n",
    "print('Test accuracy :', round(accuracy_score(model_xgb.predict(test_x_vector), test_y), 4))"
   ]
  },
  {
   "cell_type": "code",
   "execution_count": null,
   "metadata": {
    "colab": {
     "base_uri": "https://localhost:8080/",
     "height": 903
    },
    "id": "J-IfqchOtGg7",
    "outputId": "b07a3ff8-dece-47ec-aeea-9a29a80f2db4"
   },
   "outputs": [
    {
     "data": {
      "image/png": "[encoded data removed]",
      "text/plain": [
       "<Figure size 1000x500 with 1 Axes>"
      ]
     },
     "metadata": {
      "needs_background": "light",
      "tags": []
     },
     "output_type": "display_data"
    },
    {
     "data": {
      "image/png": "[encoded data removed]",
      "text/plain": [
       "<Figure size 1000x500 with 1 Axes>"
      ]
     },
     "metadata": {
      "needs_background": "light",
      "tags": []
     },
     "output_type": "display_data"
    }
   ],
   "source": [
    "# retrieve performance metrics\n",
    "results = model_xgb.evals_result() # validation_0 == Training data, validation_1 == Test data\n",
    "epochs = len(results['validation_0']['error'])\n",
    "x_axis = range(0, epochs)\n",
    "\n",
    "# plot log-loss\n",
    "fig, ax = plt.subplots(dpi=100, figsize=(10, 5))\n",
    "ax.plot(x_axis, results['validation_0']['logloss'], label='Train')\n",
    "ax.plot(x_axis, results['validation_1']['logloss'], label='Test')\n",
    "ax.legend()\n",
    "ax.grid()\n",
    "plt.ylabel('Log-Loss (Cross-entropy)')\n",
    "plt.title('XGBoost Log-Loss')\n",
    "plt.show()\n",
    "\n",
    "# plot classification-error\n",
    "fig, ax = plt.subplots(dpi=100, figsize=(10, 5))\n",
    "ax.plot(x_axis, results['validation_0']['error'], label='Train')\n",
    "ax.plot(x_axis, results['validation_1']['error'], label='Test')\n",
    "ax.legend()\n",
    "ax.grid()\n",
    "plt.ylabel('Classification-Error')\n",
    "plt.title('XGBoost Classification-Error')\n",
    "plt.show()"
   ]
  },
  {
   "cell_type": "code",
   "execution_count": null,
   "metadata": {
    "id": "-RY0kV3wngTS"
   },
   "outputs": [],
   "source": [
    "# # GridSearch for XGBoost (max_depth & subsample)\n",
    "# # Use the following codes if needed, it will take too much time.\n",
    "\n",
    "# model_xgb = XGBClassifier()\n",
    "\n",
    "# xgb_param_grid = {'max_depth': [3, 5, 7], \n",
    "#                   'n_estimators': [100], # 300, 500, 700, 1000\n",
    "#                   'subsample': [0.6, 0.8, 1.0],\n",
    "#                   'random_state': [42]}\n",
    "\n",
    "# xgb_gridcv = model_selection.GridSearchCV(estimator=model_xgb,\n",
    "#                                           param_grid=xgb_param_grid,\n",
    "#                                           scoring='accuracy', # roc_auc, neg_log_loss, precision, recall, neg_mean_absolute_error, r2, etc @ https://j.mp/3y79Kx8\n",
    "#                                           n_jobs=-1, # Number of jobs to run in parallel (-1 means using all processors) @ https://j.mp/3yigAjP\n",
    "#                                           cv=5,\n",
    "#                                           refit=True, \n",
    "#                                           return_train_score=True, # include training scores (can be computationally expensive)\n",
    "#                                           verbose=1)\n",
    "# xgb_gridcv.fit(train_x_vector, train_y)\n",
    "\n",
    "\n",
    "# best_score = xgb_gridcv.best_score_\n",
    "# best_row = xgb_gridcv.best_index_\n",
    "\n",
    "# best_max_depth     = xgb_gridcv.best_params_[\"max_depth\"]\n",
    "# best_max_subsample = xgb_gridcv.best_params_[\"subsample\"]\n",
    "\n",
    "# print(best_score, best_row, best_max_depth, best_max_subsample)\n",
    "\n",
    "# xgb_grid_df = pd.DataFrame(xgb_gridcv.cv_results_)\n",
    "# xgb_gridcv.loc[:, ['mean_test_score', \"params\"]]\n",
    "# # xgb_gridcv[xgb_gridcv['rank_test_score'] == 1]"
   ]
  },
  {
   "cell_type": "markdown",
   "metadata": {
    "id": "xo9PY0p3A2Qe"
   },
   "source": [
    "<br>\n",
    "<br>\n",
    "\n",
    "# + Model & Vectorizer Save/Load -> Predict on a new sentence"
   ]
  },
  {
   "cell_type": "markdown",
   "metadata": {
    "id": "OFSjVIkVIZbV"
   },
   "source": [
    "### 1) Save the model & vectorizer"
   ]
  },
  {
   "cell_type": "code",
   "execution_count": null,
   "metadata": {
    "colab": {
     "base_uri": "https://localhost:8080/"
    },
    "id": "6sykAdPTCgZ-",
    "outputId": "fe683b0a-bc3a-444f-af02-e7c376352363"
   },
   "outputs": [
    {
     "name": "stdout",
     "output_type": "stream",
     "text": [
      "Drive already mounted at /gdrive; to attempt to forcibly remount, call drive.mount(\"/gdrive\", force_remount=True).\n"
     ]
    },
    {
     "data": {
      "text/plain": [
       "['/gdrive/MyDrive/colab_data/temp_data/vectorizer_tfidf.pkl']"
      ]
     },
     "execution_count": 27,
     "metadata": {
      "tags": []
     },
     "output_type": "execute_result"
    }
   ],
   "source": [
    "from sklearn.externals import joblib\n",
    "from google.colab import drive\n",
    "\n",
    "drive.mount('/gdrive')\n",
    "\n",
    "data_path = '/gdrive/MyDrive/colab_data/temp_data/' \n",
    "if not os.path.exists(data_path): \n",
    "    os.makedirs(data_path)\n",
    "\n",
    "joblib.dump(model_xgb, data_path+'model_xgb_tfidf_v1.pkl', compress=True) # Model 저장\n",
    "joblib.dump(vectorizer, data_path+'vectorizer_tfidf.pkl', compress=True) # Vectorizer 저장"
   ]
  },
  {
   "cell_type": "markdown",
   "metadata": {
    "id": "w42gs3PiIgI8"
   },
   "source": [
    "### 2) Load the model & vectorizer -> Predict on new sentences"
   ]
  },
  {
   "cell_type": "code",
   "execution_count": null,
   "metadata": {
    "colab": {
     "base_uri": "https://localhost:8080/"
    },
    "id": "A06P7kwCqoVu",
    "outputId": "9a3f0a0b-77c8-4182-96b7-e74e2c69d02b"
   },
   "outputs": [
    {
     "name": "stdout",
     "output_type": "stream",
     "text": [
      "Drive already mounted at /gdrive; to attempt to forcibly remount, call drive.mount(\"/gdrive\", force_remount=True).\n"
     ]
    }
   ],
   "source": [
    "from sklearn.externals import joblib\n",
    "from google.colab import drive\n",
    "\n",
    "drive.mount('/gdrive')\n",
    "data_path = '/gdrive/MyDrive/colab_data/temp_data/' \n",
    "\n",
    "model_xgb = joblib.load(data_path+'model_xgb_tfidf_v1.pkl')\n",
    "vectorizer = joblib.load(data_path+'vectorizer_tfidf.pkl')"
   ]
  },
  {
   "cell_type": "code",
   "execution_count": null,
   "metadata": {
    "id": "cTG2j0WMqoS4"
   },
   "outputs": [],
   "source": [
    "# def tokenize_and_stemming(sentence, tokenizer):\n",
    "\n",
    "#     sentence = re.sub(\"[^\\s0-9a-zA-Zㄱ-ㅎㅏ-ㅣ가-힣]\", \"\", sentence) \n",
    "    \n",
    "#     raw_pos_tagged = tokenizer.pos(sentence, stem=True) # POS Tagging with stemming\n",
    "\n",
    "#     sentence_tokenized = []\n",
    "#     for token, pos in raw_pos_tagged: # ex) word <- ('서울', 'Noun')\n",
    "#         # pos 기준 제거 대상 : [\"Josa\", \"Eomi\", \"Punctuation\", \"Foreign\", \"Number\", \"Suffix\", \"Determiner\"]\n",
    "#         # 리뷰 텍스트 상 형태소의 순서를 고려하는 경우 의미를 갖게 됨 : \"VerbPrefix\" (잘/안/못), \"Conjunction\"(하지만/그러나/그리고), \"KoreanParticle\"(ㅋㅋㅋ/ㅎㅎㅎ/ㅠㅠ)\n",
    "#         if (len(token) != 1) & (pos in [\"Noun\", \"VerbPrefix\", \"Verb\", \"Adverb\", \"Adjective\", \"Conjunction\", \"KoreanParticle\"]):\n",
    "#             sentence_tokenized.append(token)  \n",
    "\n",
    "#     return sentence_tokenized"
   ]
  },
  {
   "cell_type": "markdown",
   "metadata": {
    "id": "BJrtscBT-Rty"
   },
   "source": [
    "### Predict on a single sentence"
   ]
  },
  {
   "cell_type": "code",
   "execution_count": null,
   "metadata": {
    "colab": {
     "base_uri": "https://localhost:8080/"
    },
    "id": "EU5mIqqPDsWX",
    "outputId": "bec7d7cf-4b2d-4d82-c0d7-11a8348cafd9"
   },
   "outputs": [
    {
     "name": "stdout",
     "output_type": "stream",
     "text": [
      "[[0.00161898 0.998381  ]]\n",
      "[1]\n"
     ]
    }
   ],
   "source": [
    "new_sentence = \"아주좋아요 바지 정말 좋아서2개 더 구매했어요 이가격에 대박입니다. 바느질이 조금 엉성하긴 하지만 편하고 가성비 최고예요.\"\n",
    "\n",
    "okt = Okt()\n",
    "tokenized_sentences = []\n",
    "tokenized_sentences.append(tokenize_and_stemming(new_sentence, okt))\n",
    "\n",
    "new_sentence_vector = vectorizer.transform(tokenized_sentences) \n",
    "\n",
    "print(model_xgb.predict_proba(new_sentence_vector))\n",
    "print(model_xgb.predict(new_sentence_vector))"
   ]
  },
  {
   "cell_type": "markdown",
   "metadata": {
    "id": "1gB8-SPS-UKM"
   },
   "source": [
    "### Predict on multiple sentences"
   ]
  },
  {
   "cell_type": "code",
   "execution_count": null,
   "metadata": {
    "colab": {
     "base_uri": "https://localhost:8080/"
    },
    "id": "vk6FUF29Gq7_",
    "outputId": "5302e887-3ac2-41af-dade-405413de93c5"
   },
   "outputs": [
    {
     "name": "stdout",
     "output_type": "stream",
     "text": [
      "[[0.00161898 0.998381  ]\n",
      " [0.01568407 0.98431593]\n",
      " [0.81362385 0.18637617]\n",
      " [0.9527507  0.04724932]]\n"
     ]
    }
   ],
   "source": [
    "new_sentences = [\"아주좋아요 바지 정말 좋아서2개 더 구매했어요 이가격에 대박입니다. 바느질이 조금 엉성하긴 하지만 편하고 가성비 최고예요.\",\n",
    "                \"너무 맛있어요! 4명이 먹을거라 넉넉하게 샀다했는데 순식간에 없어집니다! 꼭 드셔보세요!\", \n",
    "                \"후기 좋아서 샀는데 진짜 별로에요... 재질두 비니루같은 재질....\", \n",
    "                \"내용물이 안나와요 ㅜㅜ 무용지물 ㅜㅜ 여러개 샀는데 ㅜㅜ\"\n",
    "                ]\n",
    "\n",
    "okt = Okt()\n",
    "tokenized_sentences = []\n",
    "\n",
    "for sentence in new_sentences:\n",
    "    tokenized_sentences.append(tokenize_and_stemming(sentence, okt))\n",
    "\n",
    "new_sentence_vector = vectorizer.transform(tokenized_sentences) \n",
    "\n",
    "print(model_xgb.predict_proba(new_sentence_vector))"
   ]
  },
  {
   "cell_type": "code",
   "execution_count": null,
   "metadata": {
    "id": "Oik1Y1LbGwVh"
   },
   "outputs": [],
   "source": []
  }
 ],
 "metadata": {
  "accelerator": "GPU",
  "colab": {
   "collapsed_sections": [],
   "name": "1. Traditional ML (TF-IDF & XGBoost).ipynb",
   "provenance": []
  },
  "kernelspec": {
   "display_name": "Python 3",
   "language": "python",
   "name": "python3"
  },
  "language_info": {
   "codemirror_mode": {
    "name": "ipython",
    "version": 3
   },
   "file_extension": ".py",
   "mimetype": "text/x-python",
   "name": "python",
   "nbconvert_exporter": "python",
   "pygments_lexer": "ipython3",
   "version": "3.7.3"
  }
 },
 "nbformat": 4,
 "nbformat_minor": 1
}
